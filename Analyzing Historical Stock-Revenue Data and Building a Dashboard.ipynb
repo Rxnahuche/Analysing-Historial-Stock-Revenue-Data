{
 "cells": [
  {
   "cell_type": "code",
   "execution_count": 1,
   "id": "79524ede-dcc6-469f-8704-cf9f9bc53b68",
   "metadata": {},
   "outputs": [],
   "source": [
    "import yfinance as yf\n",
    "import pandas as pd\n",
    "import requests\n",
    "from bs4 import BeautifulSoup\n",
    "import plotly.graph_objects as go\n",
    "from plotly.subplots import make_subplots"
   ]
  },
  {
   "cell_type": "code",
   "execution_count": 3,
   "id": "d19166c8-a415-4b59-91cd-7d0a43f8de44",
   "metadata": {},
   "outputs": [],
   "source": [
    "import warnings\n",
    "warnings.filterwarnings(\"ignore\", category=FutureWarning)"
   ]
  },
  {
   "cell_type": "code",
   "execution_count": 5,
   "id": "87751692-dc55-4c28-951e-e6bcee685ea1",
   "metadata": {},
   "outputs": [],
   "source": [
    "def make_graph(stock_data, revenue_data, stock):\n",
    "    fig = make_subplots(rows=2, cols=1, shared_xaxes=True, subplot_titles=(\"Historical Share Price\", \"Historical Revenue\"), vertical_spacing = .3)\n",
    "    stock_data_specific = stock_data[stock_data.Date <= '2021--06-14']\n",
    "    revenue_data_specific = revenue_data[revenue_data.Date <= '2021-04-30']\n",
    "    fig.add_trace(go.Scatter(x=pd.to_datetime(stock_data_specific.Date), y=stock_data_specific.Close.astype(\"float\"), name=\"Share Price\"), row=1, col=1)\n",
    "    fig.add_trace(go.Scatter(x=pd.to_datetime(revenue_data_specific.Date), y=revenue_data_specific.Revenue.astype(\"float\"), name=\"Revenue\"), row=2, col=1)\n",
    "    fig.update_xaxes(title_text=\"Date\", row=1, col=1)\n",
    "    fig.update_xaxes(title_text=\"Date\", row=2, col=1)\n",
    "    fig.update_yaxes(title_text=\"Price ($US)\", row=1, col=1)\n",
    "    fig.update_yaxes(title_text=\"Revenue ($US Millions)\", row=2, col=1)\n",
    "    fig.update_layout(showlegend=False,\n",
    "    height=900,\n",
    "    title=stock,\n",
    "    xaxis_rangeslider_visible=True)\n",
    "    fig.show()"
   ]
  },
  {
   "cell_type": "code",
   "execution_count": 7,
   "id": "8cf9d7b3-2fc5-42be-bc3b-96a76dc9eacc",
   "metadata": {},
   "outputs": [],
   "source": [
    "tesla = yf.Ticker(\"TSLA\")"
   ]
  },
  {
   "cell_type": "code",
   "execution_count": 9,
   "id": "f03fee3b-a982-4501-b8c1-c1c82b6855ed",
   "metadata": {},
   "outputs": [],
   "source": [
    "tesla_data = tesla.history(period=\"max\")"
   ]
  },
  {
   "cell_type": "code",
   "execution_count": 11,
   "id": "e2167d2a-0732-4208-adc2-266b20a92374",
   "metadata": {},
   "outputs": [],
   "source": [
    "tesla_data.reset_index(inplace=True)"
   ]
  },
  {
   "cell_type": "code",
   "execution_count": 13,
   "id": "6b6361e0-caf3-415e-9d57-4136d30fabfa",
   "metadata": {},
   "outputs": [
    {
     "name": "stdout",
     "output_type": "stream",
     "text": [
      "Tesla Stock Data (First 5 rows):\n",
      "                       Date      Open      High       Low     Close  \\\n",
      "0 2010-06-29 00:00:00-04:00  1.266667  1.666667  1.169333  1.592667   \n",
      "1 2010-06-30 00:00:00-04:00  1.719333  2.028000  1.553333  1.588667   \n",
      "2 2010-07-01 00:00:00-04:00  1.666667  1.728000  1.351333  1.464000   \n",
      "3 2010-07-02 00:00:00-04:00  1.533333  1.540000  1.247333  1.280000   \n",
      "4 2010-07-06 00:00:00-04:00  1.333333  1.333333  1.055333  1.074000   \n",
      "\n",
      "      Volume  Dividends  Stock Splits  \n",
      "0  281494500        0.0           0.0  \n",
      "1  257806500        0.0           0.0  \n",
      "2  123282000        0.0           0.0  \n",
      "3   77097000        0.0           0.0  \n",
      "4  103003500        0.0           0.0  \n"
     ]
    }
   ],
   "source": [
    "print(\"Tesla Stock Data (First 5 rows):\")\n",
    "print(tesla_data.head())"
   ]
  },
  {
   "cell_type": "code",
   "execution_count": 65,
   "id": "4210308e-a05f-42ba-b202-e376ec79ade7",
   "metadata": {},
   "outputs": [],
   "source": [
    "import requests\n",
    "import pandas as pd\n",
    "from bs4 import BeautifulSoup"
   ]
  },
  {
   "cell_type": "code",
   "execution_count": 87,
   "id": "e0138cbb-452d-4e98-b8d7-b815e9a4a637",
   "metadata": {},
   "outputs": [],
   "source": [
    "url = 'https://cf-courses-data.s3.us.cloud-object-storage.appdomain.cloud/IBMDeveloperSkillsNetwork-PY0220EN-SkillsNetwork/labs/project/revenue.htm'\n",
    "html_data = requests.get(url).text"
   ]
  },
  {
   "cell_type": "code",
   "execution_count": 89,
   "id": "c1148a65-5c7f-46ec-8152-7960a490f9f4",
   "metadata": {},
   "outputs": [],
   "source": [
    "soup = BeautifulSoup(html_data, 'html.parser')"
   ]
  },
  {
   "cell_type": "code",
   "execution_count": 91,
   "id": "255f1237-f7b1-4f42-b9c4-69d338e4f55c",
   "metadata": {},
   "outputs": [],
   "source": [
    "tables = soup.find_all('table') "
   ]
  },
  {
   "cell_type": "code",
   "execution_count": 93,
   "id": "eda3cef9-7e6f-4a41-b1fc-6d42c08ee62b",
   "metadata": {},
   "outputs": [],
   "source": [
    "for table in tables:\n",
    "    if \"Tesla Quarterly Revenue\" in table.text:\n",
    "        target_table = table\n",
    "        break"
   ]
  },
  {
   "cell_type": "code",
   "execution_count": 95,
   "id": "289e4b34-3391-4abe-bf2f-b5765b78609d",
   "metadata": {},
   "outputs": [],
   "source": [
    "tesla_revenue = pd.DataFrame(columns=[\"Date\", \"Revenue\"])"
   ]
  },
  {
   "cell_type": "code",
   "execution_count": 97,
   "id": "239a4c37-0e52-4809-9697-367596dbc17f",
   "metadata": {},
   "outputs": [],
   "source": [
    "for row in target_table.find('tbody').find_all('tr'):\n",
    "    col = row.find_all('td') \n",
    "    date = col[0].text\n",
    "    revenue = col[1].text "
   ]
  },
  {
   "cell_type": "code",
   "execution_count": 99,
   "id": "b18b7900-0eda-4206-a8d6-c086ca077494",
   "metadata": {},
   "outputs": [],
   "source": [
    "revenue = revenue.replace(',', '').replace('$', '')"
   ]
  },
  {
   "cell_type": "code",
   "execution_count": 101,
   "id": "c11c6997-3170-4a0c-845f-d81ae507bacc",
   "metadata": {},
   "outputs": [],
   "source": [
    "tesla_revenue = pd.concat([tesla_revenue, pd.DataFrame({\"Date\": [date], \"Revenue\": [revenue]})], ignore_index=True)"
   ]
  },
  {
   "cell_type": "code",
   "execution_count": 103,
   "id": "696adf6a-4053-45d4-8999-befb30e1089c",
   "metadata": {},
   "outputs": [
    {
     "name": "stdout",
     "output_type": "stream",
     "text": [
      "         Date Revenue\n",
      "0  2009-06-30      27\n"
     ]
    }
   ],
   "source": [
    "print(tesla_revenue.head())"
   ]
  },
  {
   "cell_type": "code",
   "execution_count": 105,
   "id": "d8cbdb75-9d40-475b-9364-22f56d7bd7e7",
   "metadata": {},
   "outputs": [
    {
     "name": "stderr",
     "output_type": "stream",
     "text": [
      "<>:1: SyntaxWarning: invalid escape sequence '\\$'\n",
      "<>:1: SyntaxWarning: invalid escape sequence '\\$'\n",
      "C:\\Users\\user\\AppData\\Local\\Temp\\ipykernel_18572\\2023399376.py:1: SyntaxWarning: invalid escape sequence '\\$'\n",
      "  tesla_revenue[\"Revenue\"] = tesla_revenue[\"Revenue\"].str.replace(',|\\$', \"\", regex=True)\n"
     ]
    }
   ],
   "source": [
    "tesla_revenue[\"Revenue\"] = tesla_revenue[\"Revenue\"].str.replace(',|\\$', \"\", regex=True)"
   ]
  },
  {
   "cell_type": "code",
   "execution_count": 107,
   "id": "5ac9c6db-d4b3-414f-809d-faffde37a426",
   "metadata": {},
   "outputs": [],
   "source": [
    "tesla_revenue.dropna(inplace=True)\n",
    "tesla_revenue = tesla_revenue[tesla_revenue['Revenue'] != \"\"]"
   ]
  },
  {
   "cell_type": "code",
   "execution_count": 109,
   "id": "af97fa1f-e88a-400e-a34c-da5437c4503f",
   "metadata": {},
   "outputs": [
    {
     "name": "stdout",
     "output_type": "stream",
     "text": [
      "\n",
      "Tesla Revenue Data (Last 5 rows):\n",
      "         Date Revenue\n",
      "0  2009-06-30      27\n"
     ]
    }
   ],
   "source": [
    "print(\"\\nTesla Revenue Data (Last 5 rows):\")\n",
    "print(tesla_revenue.tail())"
   ]
  },
  {
   "cell_type": "code",
   "execution_count": 111,
   "id": "61676df9-b8bf-4616-b599-b7e68ecbea46",
   "metadata": {},
   "outputs": [],
   "source": [
    "gme = yf.Ticker(\"GME\")"
   ]
  },
  {
   "cell_type": "code",
   "execution_count": 113,
   "id": "d5caab10-2e66-4651-ac66-a4c3d44a9285",
   "metadata": {},
   "outputs": [],
   "source": [
    "gme_data = gme.history(period=\"max\")"
   ]
  },
  {
   "cell_type": "code",
   "execution_count": 115,
   "id": "efa3a368-cb41-4bf5-af67-248441e021d8",
   "metadata": {},
   "outputs": [],
   "source": [
    "gme_data.reset_index(inplace=True)"
   ]
  },
  {
   "cell_type": "code",
   "execution_count": 117,
   "id": "68a9d49e-09d3-49e8-9ea6-43fd1bde2173",
   "metadata": {},
   "outputs": [
    {
     "name": "stdout",
     "output_type": "stream",
     "text": [
      "\n",
      "GameStop Stock Data (First 5 rows):\n",
      "                       Date      Open      High       Low     Close    Volume  \\\n",
      "0 2002-02-13 00:00:00-05:00  1.620128  1.693350  1.603296  1.691666  76216000   \n",
      "1 2002-02-14 00:00:00-05:00  1.712707  1.716073  1.670626  1.683250  11021600   \n",
      "2 2002-02-15 00:00:00-05:00  1.683251  1.687459  1.658002  1.674834   8389600   \n",
      "3 2002-02-19 00:00:00-05:00  1.666417  1.666417  1.578047  1.607504   7410400   \n",
      "4 2002-02-20 00:00:00-05:00  1.615920  1.662210  1.603296  1.662210   6892800   \n",
      "\n",
      "   Dividends  Stock Splits  \n",
      "0        0.0           0.0  \n",
      "1        0.0           0.0  \n",
      "2        0.0           0.0  \n",
      "3        0.0           0.0  \n",
      "4        0.0           0.0  \n"
     ]
    }
   ],
   "source": [
    "print(\"\\nGameStop Stock Data (First 5 rows):\")\n",
    "print(gme_data.head())"
   ]
  },
  {
   "cell_type": "code",
   "execution_count": 119,
   "id": "9a0bde75-a58e-4f5a-bcdd-d1a899ee52ce",
   "metadata": {},
   "outputs": [],
   "source": [
    "url_2 = 'https://cf-courses-data.s3.us.cloud-object-storage.appdomain.cloud/IBMDeveloperSkillsNetwork-PY0220EN-SkillsNetwork/labs/project/stock.html'\n",
    "response_2 = requests.get(url_2)"
   ]
  },
  {
   "cell_type": "code",
   "execution_count": 121,
   "id": "17d99ade-7854-4936-8a5e-3c667e147de4",
   "metadata": {},
   "outputs": [],
   "source": [
    "html_data_2 = response_2.content"
   ]
  },
  {
   "cell_type": "code",
   "execution_count": 123,
   "id": "1a5cc6cd-4f6a-4a4a-b4dd-098e2c72dee9",
   "metadata": {},
   "outputs": [],
   "source": [
    "soup_2 = BeautifulSoup(html_data_2, 'html.parser')"
   ]
  },
  {
   "cell_type": "code",
   "execution_count": 125,
   "id": "5c2b9944-91e9-479f-a684-214265bf1521",
   "metadata": {},
   "outputs": [],
   "source": [
    "gme_revenue = pd.read_html(str(soup_2.find_all('table')[0]))[0]"
   ]
  },
  {
   "cell_type": "code",
   "execution_count": 129,
   "id": "f72b8a83-fd91-46b0-aab7-4216bab5fd0f",
   "metadata": {},
   "outputs": [],
   "source": [
    "target_table = soup.find_all(\"tbody\")[1]"
   ]
  },
  {
   "cell_type": "code",
   "execution_count": 131,
   "id": "aace724c-fda5-4b1f-9066-ce44e3b84828",
   "metadata": {},
   "outputs": [],
   "source": [
    "gme_revenue = pd.DataFrame(columns=[\"Date\", \"Revenue\"])"
   ]
  },
  {
   "cell_type": "code",
   "execution_count": 133,
   "id": "dbbbfb69-7394-41bd-8a57-b5b819e0d10e",
   "metadata": {},
   "outputs": [],
   "source": [
    "for row in target_table.find_all('tr'):\n",
    "    col = row.find_all('td')\n",
    "    date = col[0].text \n",
    "    revenue = col[1].text"
   ]
  },
  {
   "cell_type": "code",
   "execution_count": 135,
   "id": "f8e77b2e-866d-4ce4-957b-b72b32f63270",
   "metadata": {},
   "outputs": [],
   "source": [
    "revenue = revenue.replace(',', '').replace('$', '')"
   ]
  },
  {
   "cell_type": "code",
   "execution_count": 137,
   "id": "46db2f3f-572d-42c9-969e-a49ea9a9e0e3",
   "metadata": {},
   "outputs": [],
   "source": [
    "gme_revenue = pd.concat([gme_revenue, pd.DataFrame({\"Date\": [date], \"Revenue\": [revenue]})], ignore_index=True)"
   ]
  },
  {
   "cell_type": "code",
   "execution_count": 139,
   "id": "c575d0e7-066c-404d-b460-e6f1ec6cb091",
   "metadata": {},
   "outputs": [],
   "source": [
    "gme_revenue[\"Revenue\"] = gme_revenue['Revenue'].replace('', pd.NA)\n",
    "gme_revenue.dropna(inplace=True)"
   ]
  },
  {
   "cell_type": "code",
   "execution_count": 141,
   "id": "bacf389b-c594-455e-9c9b-61e781d1c0e3",
   "metadata": {},
   "outputs": [
    {
     "name": "stdout",
     "output_type": "stream",
     "text": [
      "         Date Revenue\n",
      "0  2009-06-30      27\n"
     ]
    }
   ],
   "source": [
    "print(gme_revenue.head())"
   ]
  },
  {
   "cell_type": "code",
   "execution_count": 143,
   "id": "d0d62d6a-dd4a-4cd6-8800-d72094f52c4e",
   "metadata": {},
   "outputs": [
    {
     "name": "stdout",
     "output_type": "stream",
     "text": [
      "         Date Revenue\n",
      "0  2009-06-30      27\n"
     ]
    }
   ],
   "source": [
    "print(gme_revenue.tail())\n"
   ]
  },
  {
   "cell_type": "code",
   "execution_count": 145,
   "id": "533acae8-7624-423b-845d-4aafd0cb3b6f",
   "metadata": {},
   "outputs": [],
   "source": [
    "import matplotlib.pyplot as plt"
   ]
  },
  {
   "cell_type": "code",
   "execution_count": 147,
   "id": "430701e4-59ff-4849-bdfa-9586c943b553",
   "metadata": {},
   "outputs": [],
   "source": [
    "def make_graph(stock_data, title):\n",
    "    plt.figure(figsize=(10,6))\n",
    "    plt.plot(stock_data['Date'], stock_data['Close'], label=\"Close Price\")\n",
    "    plt.title(title)\n",
    "    plt.xlabel(\"Date\")\n",
    "    plt.ylabel(\"Close Price\")\n",
    "    plt.legend()\n",
    "    plt.show()"
   ]
  },
  {
   "cell_type": "code",
   "execution_count": 149,
   "id": "0f8e4338-0c94-4b87-9cc9-98f887b8e25a",
   "metadata": {},
   "outputs": [
    {
     "data": {
      "image/png": "[encoded data removed]",
      "text/plain": [
       "<Figure size 1000x600 with 1 Axes>"
      ]
     },
     "metadata": {},
     "output_type": "display_data"
    }
   ],
   "source": [
    "make_graph(tesla_data, \"Tesla Stock Data (Close Price upto June 2021)\")"
   ]
  },
  {
   "cell_type": "code",
   "execution_count": null,
   "id": "e074ec71-9c43-468c-a7b6-a22f2c91bc61",
   "metadata": {},
   "outputs": [],
   "source": []
  }
 ],
 "metadata": {
  "kernelspec": {
   "display_name": "Python 3 (ipykernel)",
   "language": "python",
   "name": "python3"
  },
  "language_info": {
   "codemirror_mode": {
    "name": "ipython",
    "version": 3
   },
   "file_extension": ".py",
   "mimetype": "text/x-python",
   "name": "python",
   "nbconvert_exporter": "python",
   "pygments_lexer": "ipython3",
   "version": "3.12.4"
  }
 },
 "nbformat": 4,
 "nbformat_minor": 5
}
